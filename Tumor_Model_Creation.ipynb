{
 "cells": [
  {
   "cell_type": "code",
   "execution_count": 25,
   "metadata": {},
   "outputs": [],
   "source": [
    "import tensorflow as tf\n",
    "from tensorflow import keras\n",
    "import numpy as np"
   ]
  },
  {
   "cell_type": "code",
   "execution_count": 26,
   "metadata": {},
   "outputs": [],
   "source": [
    "class myCallbacks(tf.keras.callbacks.Callback):\n",
    "    def on_epoch_end(self,epoch,logs={}):\n",
    "        if(logs.get('acc')>0.95):\n",
    "            print(\"\\nRequired Accuracy reached!\")\n",
    "            self.model.stop_training=True"
   ]
  },
  {
   "cell_type": "code",
   "execution_count": 27,
   "metadata": {},
   "outputs": [],
   "source": [
    "callbacks=myCallbacks()"
   ]
  },
  {
   "cell_type": "code",
   "execution_count": 28,
   "metadata": {},
   "outputs": [
    {
     "name": "stdout",
     "output_type": "stream",
     "text": [
      "Found 192 images belonging to 2 classes.\n",
      "Found 56 images belonging to 2 classes.\n"
     ]
    }
   ],
   "source": [
    "from tensorflow.keras.preprocessing.image import ImageDataGenerator\n",
    "train_dir='train'\n",
    "test_dir='test'\n",
    "train_datagen=ImageDataGenerator(rescale=1./255)\n",
    "test_datagen=ImageDataGenerator(rescale=1./255)\n",
    "train_generator=train_datagen.flow_from_directory(train_dir,target_size=(150,150),class_mode='binary')\n",
    "test_generator=test_datagen.flow_from_directory(test_dir,target_size=(150,150),class_mode='binary')"
   ]
  },
  {
   "cell_type": "code",
   "execution_count": 31,
   "metadata": {},
   "outputs": [],
   "source": [
    "model=keras.models.Sequential([keras.layers.Conv2D(16,(3,3),activation='relu',input_shape=(150,150,3)),\n",
    "                              keras.layers.MaxPool2D(2,2),\n",
    "                              keras.layers.Conv2D(32,(3,3),activation='relu'),\n",
    "                              keras.layers.MaxPool2D(2,2),\n",
    "                              keras.layers.Conv2D(64,(3,3),activation='relu'),\n",
    "                              keras.layers.MaxPool2D(2,2),\n",
    "                              keras.layers.Flatten(),\n",
    "                              keras.layers.Dense(64,activation='relu'),\n",
    "                              keras.layers.Dense(1,activation='sigmoid')])"
   ]
  },
  {
   "cell_type": "code",
   "execution_count": 32,
   "metadata": {},
   "outputs": [
    {
     "name": "stdout",
     "output_type": "stream",
     "text": [
      "_________________________________________________________________\n",
      "Layer (type)                 Output Shape              Param #   \n",
      "=================================================================\n",
      "conv2d_8 (Conv2D)            (None, 148, 148, 16)      448       \n",
      "_________________________________________________________________\n",
      "max_pooling2d_8 (MaxPooling2 (None, 74, 74, 16)        0         \n",
      "_________________________________________________________________\n",
      "conv2d_9 (Conv2D)            (None, 72, 72, 32)        4640      \n",
      "_________________________________________________________________\n",
      "max_pooling2d_9 (MaxPooling2 (None, 36, 36, 32)        0         \n",
      "_________________________________________________________________\n",
      "conv2d_10 (Conv2D)           (None, 34, 34, 64)        18496     \n",
      "_________________________________________________________________\n",
      "max_pooling2d_10 (MaxPooling (None, 17, 17, 64)        0         \n",
      "_________________________________________________________________\n",
      "flatten_2 (Flatten)          (None, 18496)             0         \n",
      "_________________________________________________________________\n",
      "dense_4 (Dense)              (None, 64)                1183808   \n",
      "_________________________________________________________________\n",
      "dense_5 (Dense)              (None, 1)                 65        \n",
      "=================================================================\n",
      "Total params: 1,207,457\n",
      "Trainable params: 1,207,457\n",
      "Non-trainable params: 0\n",
      "_________________________________________________________________\n"
     ]
    }
   ],
   "source": [
    "model.summary()"
   ]
  },
  {
   "cell_type": "code",
   "execution_count": 33,
   "metadata": {
    "scrolled": false
   },
   "outputs": [
    {
     "name": "stdout",
     "output_type": "stream",
     "text": [
      "Epoch 1/20\n",
      "2/2 [==============================] - 0s 218ms/step - loss: 0.5299 - acc: 0.8036\n",
      "6/6 [==============================] - 2s 393ms/step - loss: 0.9730 - acc: 0.5938 - val_loss: 0.5299 - val_acc: 0.8036\n",
      "Epoch 2/20\n",
      "2/2 [==============================] - 0s 115ms/step - loss: 0.5193 - acc: 0.7679\n",
      "6/6 [==============================] - 1s 135ms/step - loss: 0.5476 - acc: 0.7500 - val_loss: 0.5193 - val_acc: 0.7679\n",
      "Epoch 3/20\n",
      "2/2 [==============================] - 0s 106ms/step - loss: 0.4876 - acc: 0.7679\n",
      "6/6 [==============================] - 1s 153ms/step - loss: 0.4764 - acc: 0.7552 - val_loss: 0.4876 - val_acc: 0.7679\n",
      "Epoch 4/20\n",
      "2/2 [==============================] - 0s 114ms/step - loss: 0.4687 - acc: 0.7857\n",
      "6/6 [==============================] - 1s 154ms/step - loss: 0.4788 - acc: 0.7812 - val_loss: 0.4687 - val_acc: 0.7857\n",
      "Epoch 5/20\n",
      "2/2 [==============================] - 0s 112ms/step - loss: 0.3942 - acc: 0.8393\n",
      "6/6 [==============================] - 1s 138ms/step - loss: 0.4188 - acc: 0.8229 - val_loss: 0.3942 - val_acc: 0.8393\n",
      "Epoch 6/20\n",
      "2/2 [==============================] - 0s 121ms/step - loss: 0.4828 - acc: 0.7500\n",
      "6/6 [==============================] - 1s 152ms/step - loss: 0.3669 - acc: 0.8333 - val_loss: 0.4828 - val_acc: 0.7500\n",
      "Epoch 7/20\n",
      "2/2 [==============================] - 0s 129ms/step - loss: 1.4626 - acc: 0.6250\n",
      "6/6 [==============================] - 1s 156ms/step - loss: 0.3188 - acc: 0.9062 - val_loss: 1.4626 - val_acc: 0.6250\n",
      "Epoch 8/20\n",
      "2/2 [==============================] - 0s 116ms/step - loss: 0.4611 - acc: 0.7143\n",
      "6/6 [==============================] - 1s 155ms/step - loss: 0.5825 - acc: 0.8333 - val_loss: 0.4611 - val_acc: 0.7143\n",
      "Epoch 9/20\n",
      "2/2 [==============================] - 0s 119ms/step - loss: 1.3749 - acc: 0.5179\n",
      "6/6 [==============================] - 1s 137ms/step - loss: 0.2577 - acc: 0.9219 - val_loss: 1.3749 - val_acc: 0.5179\n",
      "Epoch 10/20\n",
      "2/2 [==============================] - 0s 124ms/step - loss: 0.4170 - acc: 0.8036\n",
      "6/6 [==============================] - 1s 155ms/step - loss: 0.4519 - acc: 0.7969 - val_loss: 0.4170 - val_acc: 0.8036\n",
      "Epoch 11/20\n",
      "2/2 [==============================] - 0s 111ms/step - loss: 0.7755 - acc: 0.6250\n",
      "6/6 [==============================] - 1s 155ms/step - loss: 0.1884 - acc: 0.9427 - val_loss: 0.7755 - val_acc: 0.6250\n",
      "Epoch 12/20\n",
      "2/2 [==============================] - 0s 114ms/step - loss: 0.3943 - acc: 0.8393\n",
      "6/6 [==============================] - 1s 155ms/step - loss: 0.2771 - acc: 0.9010 - val_loss: 0.3943 - val_acc: 0.8393\n",
      "Epoch 13/20\n",
      "2/2 [==============================] - 0s 121ms/step - loss: 0.4545 - acc: 0.8036\n",
      "\n",
      "Required Accuracy reached!\n",
      "6/6 [==============================] - 1s 154ms/step - loss: 0.1265 - acc: 0.9688 - val_loss: 0.4545 - val_acc: 0.8036\n"
     ]
    }
   ],
   "source": [
    "from tensorflow.keras.optimizers import RMSprop\n",
    "model.compile(loss='binary_crossentropy',optimizer=RMSprop(lr=0.001),metrics=['acc'])\n",
    "history=model.fit_generator(train_generator,epochs=20,validation_data=test_generator,callbacks=[callbacks])"
   ]
  },
  {
   "cell_type": "code",
   "execution_count": 1,
   "metadata": {
    "collapsed": true
   },
   "outputs": [
    {
     "data": {
      "text/plain": [
       "\"from keras.preprocessing import image\\nimport numpy as np\\nimg = image.load_img('brain/sample.jpg',target_size=(150,150))\\nimg = image.img_to_array(img)\\nimg = np.expand_dims(img, axis=0)\\npredicted=model.predict(img)\\nprint(['\\nTumor Present\\n' if ele[0]==1.0 else '\\nHealthy brain\\n' for ele in predicted ][0])\""
      ]
     },
     "execution_count": 1,
     "metadata": {},
     "output_type": "execute_result"
    }
   ],
   "source": [
    "'''from keras.preprocessing import image\n",
    "import numpy as np\n",
    "img = image.load_img('brain/sample.jpg',target_size=(150,150))\n",
    "img = image.img_to_array(img)\n",
    "img = np.expand_dims(img, axis=0)\n",
    "predicted=model.predict(img)\n",
    "print(['\\nTumor Present\\n' if ele[0]==1.0 else '\\nHealthy brain\\n' for ele in predicted ][0])'''"
   ]
  },
  {
   "cell_type": "code",
   "execution_count": 50,
   "metadata": {},
   "outputs": [],
   "source": [
    "model.save('tumor.h5')"
   ]
  },
  {
   "cell_type": "code",
   "execution_count": null,
   "metadata": {},
   "outputs": [],
   "source": []
  }
 ],
 "metadata": {
  "kernelspec": {
   "display_name": "Python 3",
   "language": "python",
   "name": "python3"
  },
  "language_info": {
   "codemirror_mode": {
    "name": "ipython",
    "version": 3
   },
   "file_extension": ".py",
   "mimetype": "text/x-python",
   "name": "python",
   "nbconvert_exporter": "python",
   "pygments_lexer": "ipython3",
   "version": "3.7.5"
  }
 },
 "nbformat": 4,
 "nbformat_minor": 4
}
